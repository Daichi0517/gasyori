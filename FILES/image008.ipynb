{
  "cells": [
    {
      "cell_type": "markdown",
      "metadata": {
        "id": "view-in-github",
        "colab_type": "text"
      },
      "source": [
        "<a href=\"https://colab.research.google.com/github/Daichi0517/gasyori/blob/main/FILES/image008.ipynb\" target=\"_parent\"><img src=\"https://colab.research.google.com/assets/colab-badge.svg\" alt=\"Open In Colab\"/></a>"
      ]
    },
    {
      "cell_type": "code",
      "execution_count": 54,
      "metadata": {
        "id": "RXLTcUktXcFD",
        "colab": {
          "base_uri": "https://localhost:8080/",
          "height": 145
        },
        "outputId": "e1b65b7c-8273-4ceb-d70d-9c6e5f1dc9df"
      },
      "outputs": [
        {
          "output_type": "display_data",
          "data": {
            "text/plain": [
              "<PIL.Image.Image image mode=RGB size=128x128>"
            ],
            "image/png": "[encoded data removed]"
          },
          "metadata": {}
        }
      ],
      "source": [
        "from pdb import main\n",
        "#ライブラリをインポート\n",
        "import numpy as np\n",
        "import matplotlib.pyplot as plt\n",
        "import cv2\n",
        "from google.colab.patches import cv2_imshow\n",
        "\n",
        "#画像の読み込み\n",
        "img = cv2.imread('imori.jpg')\n",
        "img_noise = cv2.imread('imori_noise.jpg')\n",
        "\n",
        "#処理\n",
        "def processing(img):\n",
        "  out = img.copy()\n",
        "  H,W,C = img.shape\n",
        "  #グリッド分割\n",
        "  h = int(H/8)\n",
        "  w = int(W/8)\n",
        "  #平均プーリング\n",
        "  for y in range(h):\n",
        "    for x in range(w):\n",
        "      for c in range(C):\n",
        "        out[8*y:8*(y+1),8*x:8*(x+1),c]=np.max(out[8*y:8*(y+1),8*x:8*(x+1),c])\n",
        "\n",
        "  return out\n",
        "\n",
        "img7 = processing(img)\n",
        "#画像を表示する\n",
        "cv2_imshow(img7)\n",
        "cv2.waitKey(0)\n",
        "cv2.destroyAllWindows()"
      ]
    }
  ],
  "metadata": {
    "colab": {
      "provenance": [],
      "include_colab_link": true
    },
    "kernelspec": {
      "display_name": "Python 3",
      "name": "python3"
    },
    "language_info": {
      "name": "python"
    }
  },
  "nbformat": 4,
  "nbformat_minor": 0
}