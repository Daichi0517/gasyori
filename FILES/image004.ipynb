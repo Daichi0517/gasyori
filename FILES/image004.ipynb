{
  "cells": [
    {
      "cell_type": "markdown",
      "metadata": {
        "id": "view-in-github",
        "colab_type": "text"
      },
      "source": [
        "<a href=\"https://colab.research.google.com/github/Daichi0517/gasyori/blob/main/FILES/image004.ipynb\" target=\"_parent\"><img src=\"https://colab.research.google.com/assets/colab-badge.svg\" alt=\"Open In Colab\"/></a>"
      ]
    },
    {
      "cell_type": "code",
      "execution_count": 33,
      "metadata": {
        "id": "RXLTcUktXcFD",
        "colab": {
          "base_uri": "https://localhost:8080/",
          "height": 145
        },
        "outputId": "6ad2d0f8-25ff-4e3c-bf15-2e4526d805e4"
      },
      "outputs": [
        {
          "output_type": "display_data",
          "data": {
            "text/plain": [
              "<PIL.Image.Image image mode=L size=128x128>"
            ],
            "image/png": "[encoded data removed]"
          },
          "metadata": {}
        }
      ],
      "source": [
        "#ライブラリをインポート\n",
        "import numpy as np\n",
        "import matplotlib.pyplot as plt\n",
        "import cv2\n",
        "from google.colab.patches import cv2_imshow\n",
        "\n",
        "#画像の読み込み\n",
        "img = cv2.imread('imori.jpg')\n",
        "img_noise = cv2.imread('imori_noise.jpg')\n",
        "#処理\n",
        "img2 = cv2.cvtColor(img,cv2.COLOR_BGR2GRAY)\n",
        "img3=img2.copy()\n",
        "#大津の二値化\n",
        "ret,img4 = cv2.threshold(img3,0,255,cv2.THRESH_OTSU)\n",
        "#画像を表示する\n",
        "cv2_imshow(img4)\n",
        "cv2.waitKey(0)\n",
        "cv2.destroyAllWindows()"
      ]
    }
  ],
  "metadata": {
    "colab": {
      "provenance": [],
      "include_colab_link": true
    },
    "kernelspec": {
      "display_name": "Python 3",
      "name": "python3"
    },
    "language_info": {
      "name": "python"
    }
  },
  "nbformat": 4,
  "nbformat_minor": 0
}