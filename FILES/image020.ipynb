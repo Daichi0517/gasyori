{
  "cells": [
    {
      "cell_type": "markdown",
      "metadata": {
        "id": "view-in-github",
        "colab_type": "text"
      },
      "source": [
        "<a href=\"https://colab.research.google.com/github/Daichi0517/gasyori/blob/main/FILES/image020.ipynb\" target=\"_parent\"><img src=\"https://colab.research.google.com/assets/colab-badge.svg\" alt=\"Open In Colab\"/></a>"
      ]
    },
    {
      "cell_type": "code",
      "execution_count": 39,
      "metadata": {
        "id": "RXLTcUktXcFD",
        "colab": {
          "base_uri": "https://localhost:8080/",
          "height": 1000
        },
        "outputId": "48d569c0-66d5-49ae-fad3-aed2f2d390d2"
      },
      "outputs": [
        {
          "output_type": "execute_result",
          "data": {
            "text/plain": [
              "(array([  0.,   0.,   0.,   0.,   0.,   0.,   0.,   0.,   0.,   0.,   0.,\n",
              "          0.,   0.,   0.,   0.,   0.,   0.,   0.,   0.,   0.,   0.,   0.,\n",
              "          0.,   0.,   0.,   0.,   0.,   0.,   0.,   0.,   0.,   0.,   0.,\n",
              "          0.,   0.,   0.,   0.,   0.,   0.,   0.,   0.,   0.,   0.,   0.,\n",
              "          0.,   0.,   0.,   0.,   0.,   0.,   0.,   0.,   0.,   0.,   0.,\n",
              "          0.,   0.,   0.,   0.,   0.,   0.,   0.,   0.,   1.,   0.,   0.,\n",
              "          0.,   0.,   2.,   1.,   1.,   8.,  18.,  47.,  78., 154., 246.,\n",
              "        264., 307., 309., 327., 310., 357., 409., 454., 547., 558., 534.,\n",
              "        523., 498., 411., 363., 391., 326., 318., 320., 362., 360., 377.,\n",
              "        398., 403., 405., 440., 490., 516., 576., 563., 484., 435., 334.,\n",
              "        284., 244., 227., 214., 223., 172., 136., 117., 113.,  97.,  90.,\n",
              "         42.,  45.,  33.,  24.,  31.,  34.,  19.,  10.,   2.,   1.,   1.,\n",
              "          0.,   0.,   0.,   0.,   0.,   0.,   0.,   0.,   0.,   0.,   0.,\n",
              "          0.,   0.,   0.,   0.,   0.,   0.,   0.,   0.,   0.,   0.,   0.,\n",
              "          0.,   0.,   0.,   0.,   0.,   0.,   0.,   0.,   0.,   0.,   0.,\n",
              "          0.,   0.,   0.,   0.,   0.,   0.,   0.,   0.,   0.,   0.,   0.,\n",
              "          0.,   0.,   0.,   0.,   0.,   0.,   0.,   0.,   0.,   0.,   0.,\n",
              "          0.,   0.,   0.,   0.,   0.,   0.,   0.,   0.,   0.,   0.,   0.,\n",
              "          0.,   0.,   0.,   0.,   0.,   0.,   0.,   0.,   0.,   0.,   0.,\n",
              "          0.,   0.,   0.,   0.,   0.,   0.,   0.,   0.,   0.,   0.,   0.,\n",
              "          0.,   0.,   0.,   0.,   0.,   0.,   0.,   0.,   0.,   0.,   0.,\n",
              "          0.,   0.,   0.,   0.,   0.,   0.,   0.,   0.,   0.,   0.,   0.,\n",
              "          0.,   0.,   0.,   0.,   0.,   0.,   0.,   0.,   0.,   0.,   0.,\n",
              "          0.,   0.]),\n",
              " array([  0.,   1.,   2.,   3.,   4.,   5.,   6.,   7.,   8.,   9.,  10.,\n",
              "         11.,  12.,  13.,  14.,  15.,  16.,  17.,  18.,  19.,  20.,  21.,\n",
              "         22.,  23.,  24.,  25.,  26.,  27.,  28.,  29.,  30.,  31.,  32.,\n",
              "         33.,  34.,  35.,  36.,  37.,  38.,  39.,  40.,  41.,  42.,  43.,\n",
              "         44.,  45.,  46.,  47.,  48.,  49.,  50.,  51.,  52.,  53.,  54.,\n",
              "         55.,  56.,  57.,  58.,  59.,  60.,  61.,  62.,  63.,  64.,  65.,\n",
              "         66.,  67.,  68.,  69.,  70.,  71.,  72.,  73.,  74.,  75.,  76.,\n",
              "         77.,  78.,  79.,  80.,  81.,  82.,  83.,  84.,  85.,  86.,  87.,\n",
              "         88.,  89.,  90.,  91.,  92.,  93.,  94.,  95.,  96.,  97.,  98.,\n",
              "         99., 100., 101., 102., 103., 104., 105., 106., 107., 108., 109.,\n",
              "        110., 111., 112., 113., 114., 115., 116., 117., 118., 119., 120.,\n",
              "        121., 122., 123., 124., 125., 126., 127., 128., 129., 130., 131.,\n",
              "        132., 133., 134., 135., 136., 137., 138., 139., 140., 141., 142.,\n",
              "        143., 144., 145., 146., 147., 148., 149., 150., 151., 152., 153.,\n",
              "        154., 155., 156., 157., 158., 159., 160., 161., 162., 163., 164.,\n",
              "        165., 166., 167., 168., 169., 170., 171., 172., 173., 174., 175.,\n",
              "        176., 177., 178., 179., 180., 181., 182., 183., 184., 185., 186.,\n",
              "        187., 188., 189., 190., 191., 192., 193., 194., 195., 196., 197.,\n",
              "        198., 199., 200., 201., 202., 203., 204., 205., 206., 207., 208.,\n",
              "        209., 210., 211., 212., 213., 214., 215., 216., 217., 218., 219.,\n",
              "        220., 221., 222., 223., 224., 225., 226., 227., 228., 229., 230.,\n",
              "        231., 232., 233., 234., 235., 236., 237., 238., 239., 240., 241.,\n",
              "        242., 243., 244., 245., 246., 247., 248., 249., 250., 251., 252.,\n",
              "        253., 254., 255.]),\n",
              " <BarContainer object of 255 artists>)"
            ]
          },
          "metadata": {},
          "execution_count": 39
        },
        {
          "output_type": "display_data",
          "data": {
            "text/plain": [
              "<Figure size 640x480 with 1 Axes>"
            ],
            "image/png": "[encoded data removed]"
          },
          "metadata": {}
        }
      ],
      "source": [
        "import cv2\n",
        "import matplotlib.pyplot as plt\n",
        "from google.colab.patches import cv2_imshow\n",
        "import numpy as np\n",
        "#画像の読み取り\n",
        "img_dark = cv2.imread('imori_dark.jpg')\n",
        "#グレイスケール\n",
        "gray_img = cv2.cvtColor(img_dark,cv2.COLOR_BGR2GRAY)\n",
        "# ヒストグラムを出力\n",
        "plt.hist(gray_img.ravel(),bins=255,rwidth=0.8,range=(0,255))"
      ]
    }
  ],
  "metadata": {
    "colab": {
      "provenance": [],
      "include_colab_link": true
    },
    "kernelspec": {
      "display_name": "Python 3",
      "name": "python3"
    },
    "language_info": {
      "name": "python"
    }
  },
  "nbformat": 4,
  "nbformat_minor": 0
}