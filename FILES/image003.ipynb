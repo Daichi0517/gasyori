{
  "cells": [
    {
      "cell_type": "markdown",
      "metadata": {
        "id": "view-in-github",
        "colab_type": "text"
      },
      "source": [
        "<a href=\"https://colab.research.google.com/github/Daichi0517/gasyori/blob/main/FILES/image003.ipynb\" target=\"_parent\"><img src=\"https://colab.research.google.com/assets/colab-badge.svg\" alt=\"Open In Colab\"/></a>"
      ]
    },
    {
      "cell_type": "code",
      "execution_count": 31,
      "metadata": {
        "id": "RXLTcUktXcFD",
        "colab": {
          "base_uri": "https://localhost:8080/",
          "height": 145
        },
        "outputId": "1d1e47e4-797d-4a77-afc4-c79b5189c854"
      },
      "outputs": [
        {
          "output_type": "display_data",
          "data": {
            "text/plain": [
              "<PIL.Image.Image image mode=L size=128x128>"
            ],
            "image/png": "[encoded data removed]"
          },
          "metadata": {}
        }
      ],
      "source": [
        "#ライブラリをインポート\n",
        "import numpy as np\n",
        "import matplotlib.pyplot as plt\n",
        "import cv2\n",
        "from google.colab.patches import cv2_imshow\n",
        "\n",
        "#画像の読み込み\n",
        "img = cv2.imread('imori.jpg')\n",
        "img_noise = cv2.imread('imori_noise.jpg')\n",
        "#処理\n",
        "img2 = cv2.cvtColor(img,cv2.COLOR_BGR2GRAY)\n",
        "img3=img2.copy()\n",
        "#閾値\n",
        "sikiiti = 128\n",
        "#二値化\n",
        "ret,img3 = cv2.threshold(img3,sikiiti,255,cv2.THRESH_BINARY)\n",
        "#画像を表示する\n",
        "cv2_imshow(img3)\n",
        "cv2.waitKey(0)\n",
        "cv2.destroyAllWindows()"
      ]
    }
  ],
  "metadata": {
    "colab": {
      "provenance": [],
      "include_colab_link": true
    },
    "kernelspec": {
      "display_name": "Python 3",
      "name": "python3"
    },
    "language_info": {
      "name": "python"
    }
  },
  "nbformat": 4,
  "nbformat_minor": 0
}