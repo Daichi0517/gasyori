{
  "cells": [
    {
      "cell_type": "markdown",
      "metadata": {
        "id": "view-in-github",
        "colab_type": "text"
      },
      "source": [
        "<a href=\"https://colab.research.google.com/github/Daichi0517/gasyori/blob/main/FILES/image006.ipynb\" target=\"_parent\"><img src=\"https://colab.research.google.com/assets/colab-badge.svg\" alt=\"Open In Colab\"/></a>"
      ]
    },
    {
      "cell_type": "code",
      "execution_count": 49,
      "metadata": {
        "id": "RXLTcUktXcFD",
        "colab": {
          "base_uri": "https://localhost:8080/",
          "height": 145
        },
        "outputId": "e01bf6d0-8cae-4e33-fa8a-55312fabde56"
      },
      "outputs": [
        {
          "output_type": "display_data",
          "data": {
            "text/plain": [
              "<PIL.Image.Image image mode=RGB size=128x128>"
            ],
            "image/png": "[encoded data removed]"
          },
          "metadata": {}
        }
      ],
      "source": [
        "#ライブラリをインポート\n",
        "import numpy as np\n",
        "import matplotlib.pyplot as plt\n",
        "import cv2\n",
        "from google.colab.patches import cv2_imshow\n",
        "\n",
        "#画像の読み込み\n",
        "img = cv2.imread('imori.jpg')\n",
        "img_noise = cv2.imread('imori_noise.jpg')\n",
        "\n",
        "#処理\n",
        "def processing(img):\n",
        "  \"\"\"val = {  32  (  0 <= val <  64)\n",
        "              96  ( 64 <= val < 128)\n",
        "              160  (128 <= val < 192)\n",
        "              224  (192 <= val < 256)\"\"\"\n",
        "  out = img.copy()\n",
        "  out = out//64*64+32\n",
        "  return out\n",
        "\n",
        "img6 = img.copy()\n",
        "img6 = processing(img6)\n",
        "#画像を表示する\n",
        "cv2_imshow(img6)\n",
        "cv2.waitKey(0)\n",
        "cv2.destroyAllWindows()"
      ]
    }
  ],
  "metadata": {
    "colab": {
      "provenance": [],
      "include_colab_link": true
    },
    "kernelspec": {
      "display_name": "Python 3",
      "name": "python3"
    },
    "language_info": {
      "name": "python"
    }
  },
  "nbformat": 4,
  "nbformat_minor": 0
}